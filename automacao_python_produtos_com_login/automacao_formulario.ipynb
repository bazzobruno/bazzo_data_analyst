{
 "cells": [
  {
   "cell_type": "code",
   "execution_count": 1,
   "id": "ba5283c3",
   "metadata": {},
   "outputs": [
    {
     "name": "stdout",
     "output_type": "stream",
     "text": [
      " * Serving Flask app 'app'\n",
      " * Debug mode: on\n"
     ]
    },
    {
     "name": "stderr",
     "output_type": "stream",
     "text": [
      "\u001b[31m\u001b[1mWARNING: This is a development server. Do not use it in a production deployment. Use a production WSGI server instead.\u001b[0m\n",
      " * Running on http://127.0.0.1:5000\n",
      "\u001b[33mPress CTRL+C to quit\u001b[0m\n",
      " * Restarting with stat\n",
      " * Debugger is active!\n",
      " * Debugger PIN: 821-517-883\n",
      "127.0.0.1 - - [03/Jun/2025 00:42:51] \"GET / HTTP/1.1\" 200 -\n"
     ]
    },
    {
     "name": "stdout",
     "output_type": "stream",
     "text": [
      "Digitando login: harbor_L@bazzo.lab senha: lksidjushs\n"
     ]
    },
    {
     "name": "stderr",
     "output_type": "stream",
     "text": [
      "127.0.0.1 - - [03/Jun/2025 00:43:03] \"\u001b[32mPOST / HTTP/1.1\u001b[0m\" 302 -\n",
      "127.0.0.1 - - [03/Jun/2025 00:43:03] \"GET /formulario HTTP/1.1\" 200 -\n"
     ]
    },
    {
     "ename": "FailSafeException",
     "evalue": "PyAutoGUI fail-safe triggered from mouse moving to a corner of the screen. To disable this fail-safe, set pyautogui.FAILSAFE to False. DISABLING FAIL-SAFE IS NOT RECOMMENDED.",
     "output_type": "error",
     "traceback": [
      "\u001b[31m---------------------------------------------------------------------------\u001b[39m",
      "\u001b[31mFailSafeException\u001b[39m                         Traceback (most recent call last)",
      "\u001b[36mCell\u001b[39m\u001b[36m \u001b[39m\u001b[32mIn[1]\u001b[39m\u001b[32m, line 71\u001b[39m\n\u001b[32m     68\u001b[39m obs = \u001b[33m\"\u001b[39m\u001b[33m\"\u001b[39m \u001b[38;5;28;01mif\u001b[39;00m pd.isna(tabela.loc[linha, \u001b[33m\"\u001b[39m\u001b[33mobs\u001b[39m\u001b[33m\"\u001b[39m]) \u001b[38;5;28;01melse\u001b[39;00m \u001b[38;5;28mstr\u001b[39m(tabela.loc[linha, \u001b[33m\"\u001b[39m\u001b[33mobs\u001b[39m\u001b[33m\"\u001b[39m])\n\u001b[32m     70\u001b[39m \u001b[38;5;28;01mfor\u001b[39;00m valor \u001b[38;5;129;01min\u001b[39;00m [cod, marca, tipo, cat, preco, custo, obs]:\n\u001b[32m---> \u001b[39m\u001b[32m71\u001b[39m     pyautogui.hotkey(\u001b[33m'\u001b[39m\u001b[33mctrl\u001b[39m\u001b[33m'\u001b[39m, \u001b[33m'\u001b[39m\u001b[33ma\u001b[39m\u001b[33m'\u001b[39m); pyautogui.press(\u001b[33m'\u001b[39m\u001b[33mbackspace\u001b[39m\u001b[33m'\u001b[39m)\n\u001b[32m     72\u001b[39m     pyautogui.write(valor)\n\u001b[32m     73\u001b[39m     pyautogui.press(\u001b[33m'\u001b[39m\u001b[33mtab\u001b[39m\u001b[33m'\u001b[39m)\n",
      "\u001b[36mFile \u001b[39m\u001b[32m/Library/Frameworks/Python.framework/Versions/3.12/lib/python3.12/site-packages/pyautogui/__init__.py:593\u001b[39m, in \u001b[36m_genericPyAutoGUIChecks.<locals>.wrapper\u001b[39m\u001b[34m(*args, **kwargs)\u001b[39m\n\u001b[32m    591\u001b[39m \u001b[38;5;129m@functools\u001b[39m.wraps(wrappedFunction)\n\u001b[32m    592\u001b[39m \u001b[38;5;28;01mdef\u001b[39;00m\u001b[38;5;250m \u001b[39m\u001b[34mwrapper\u001b[39m(*args, **kwargs):\n\u001b[32m--> \u001b[39m\u001b[32m593\u001b[39m     \u001b[43mfailSafeCheck\u001b[49m\u001b[43m(\u001b[49m\u001b[43m)\u001b[49m\n\u001b[32m    594\u001b[39m     returnVal = wrappedFunction(*args, **kwargs)\n\u001b[32m    595\u001b[39m     _handlePause(kwargs.get(\u001b[33m\"\u001b[39m\u001b[33m_pause\u001b[39m\u001b[33m\"\u001b[39m, \u001b[38;5;28;01mTrue\u001b[39;00m))\n",
      "\u001b[36mFile \u001b[39m\u001b[32m/Library/Frameworks/Python.framework/Versions/3.12/lib/python3.12/site-packages/pyautogui/__init__.py:1734\u001b[39m, in \u001b[36mfailSafeCheck\u001b[39m\u001b[34m()\u001b[39m\n\u001b[32m   1732\u001b[39m \u001b[38;5;28;01mdef\u001b[39;00m\u001b[38;5;250m \u001b[39m\u001b[34mfailSafeCheck\u001b[39m():\n\u001b[32m   1733\u001b[39m     \u001b[38;5;28;01mif\u001b[39;00m FAILSAFE \u001b[38;5;129;01mand\u001b[39;00m \u001b[38;5;28mtuple\u001b[39m(position()) \u001b[38;5;129;01min\u001b[39;00m FAILSAFE_POINTS:\n\u001b[32m-> \u001b[39m\u001b[32m1734\u001b[39m         \u001b[38;5;28;01mraise\u001b[39;00m FailSafeException(\n\u001b[32m   1735\u001b[39m             \u001b[33m\"\u001b[39m\u001b[33mPyAutoGUI fail-safe triggered from mouse moving to a corner of the screen. To disable this fail-safe, set pyautogui.FAILSAFE to False. DISABLING FAIL-SAFE IS NOT RECOMMENDED.\u001b[39m\u001b[33m\"\u001b[39m\n\u001b[32m   1736\u001b[39m         )\n",
      "\u001b[31mFailSafeException\u001b[39m: PyAutoGUI fail-safe triggered from mouse moving to a corner of the screen. To disable this fail-safe, set pyautogui.FAILSAFE to False. DISABLING FAIL-SAFE IS NOT RECOMMENDED."
     ]
    }
   ],
   "source": [
    "import socket\n",
    "import os\n",
    "import signal\n",
    "import subprocess\n",
    "import pyautogui\n",
    "import time\n",
    "import pandas as pd\n",
    "\n",
    "# Encerra processos na porta 5000 se existirem\n",
    "def matar_processo_na_porta(porta=5000):\n",
    "    proc = subprocess.Popen([\"lsof\", \"-i\", f\":{porta}\"], stdout=subprocess.PIPE, stderr=subprocess.PIPE)\n",
    "    out, err = proc.communicate()\n",
    "    lines = out.decode().splitlines()\n",
    "    for line in lines[1:]:\n",
    "        parts = line.split()\n",
    "        pid = int(parts[1])\n",
    "        os.kill(pid, signal.SIGKILL)\n",
    "\n",
    "matar_processo_na_porta()\n",
    "\n",
    "APP_PATH = \"app.py\"\n",
    "CSV_PATH = \"produtos.csv\"\n",
    "\n",
    "# Lê CSV\n",
    "tabela = pd.read_csv(CSV_PATH)\n",
    "\n",
    "# Inicia app Flask\n",
    "subprocess.Popen([\"python3\", APP_PATH])\n",
    "time.sleep(3)\n",
    "\n",
    "# Abre navegador\n",
    "os.system(f\"open -a 'Google Chrome' 'http://127.0.0.1:5000/'\")\n",
    "time.sleep(4)\n",
    "\n",
    "# Login - DEBUG DE PRINTS ATIVOS\n",
    "email = \"harbor_L@bazzo.lab\"\n",
    "senha = \"lksidjushs\"\n",
    "print(\"Digitando login:\", email, \"senha:\", senha)\n",
    "\n",
    "pyautogui.press('tab')\n",
    "time.sleep(1.2)\n",
    "pyautogui.hotkey('ctrl', 'a'); pyautogui.press('backspace')\n",
    "pyautogui.write(email)\n",
    "time.sleep(1.2)\n",
    "pyautogui.press('tab')\n",
    "time.sleep(1.2)\n",
    "pyautogui.hotkey('ctrl', 'a'); pyautogui.press('backspace')\n",
    "pyautogui.write(senha)\n",
    "time.sleep(1.2)\n",
    "pyautogui.press('tab')\n",
    "time.sleep(1.2)\n",
    "pyautogui.press('enter')\n",
    "time.sleep(3.5)\n",
    "\n",
    "# Campo código\n",
    "pyautogui.press('tab')\n",
    "time.sleep(2.0)\n",
    "\n",
    "# Cria janela visual simples\n",
    "\n",
    "for i, linha in enumerate(tabela.index):\n",
    "    cod = str(tabela.loc[linha, \"codigo\"])\n",
    "    marca = str(tabela.loc[linha, \"marca\"])\n",
    "    tipo = str(tabela.loc[linha, \"tipo\"])\n",
    "    cat = str(tabela.loc[linha, \"categoria\"])\n",
    "    preco = str(tabela.loc[linha, \"preco_unitario\"])\n",
    "    custo = str(tabela.loc[linha, \"custo\"])\n",
    "    obs = \"\" if pd.isna(tabela.loc[linha, \"obs\"]) else str(tabela.loc[linha, \"obs\"])\n",
    "\n",
    "    for valor in [cod, marca, tipo, cat, preco, custo, obs]:\n",
    "        pyautogui.hotkey('ctrl', 'a'); pyautogui.press('backspace')\n",
    "        pyautogui.write(valor)\n",
    "        pyautogui.press('tab')\n",
    "        time.sleep(0.8)\n",
    "\n",
    "    pyautogui.press('enter')\n",
    "    time.sleep(2.5)\n",
    "    pyautogui.press('tab')\n",
    "    time.sleep(1.5)\n",
    "\n",
    "    \n",
    "\n"
   ]
  }
 ],
 "metadata": {
  "kernelspec": {
   "display_name": "Python 3",
   "language": "python",
   "name": "python3"
  },
  "language_info": {
   "codemirror_mode": {
    "name": "ipython",
    "version": 3
   },
   "file_extension": ".py",
   "mimetype": "text/x-python",
   "name": "python",
   "nbconvert_exporter": "python",
   "pygments_lexer": "ipython3",
   "version": "3.12.6"
  }
 },
 "nbformat": 4,
 "nbformat_minor": 5
}
